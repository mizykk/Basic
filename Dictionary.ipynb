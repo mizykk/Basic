{
  "nbformat": 4,
  "nbformat_minor": 0,
  "metadata": {
    "colab": {
      "name": "Dictionary.ipynb",
      "provenance": [],
      "include_colab_link": true
    },
    "kernelspec": {
      "name": "python3",
      "display_name": "Python 3"
    }
  },
  "cells": [
    {
      "cell_type": "markdown",
      "metadata": {
        "id": "view-in-github",
        "colab_type": "text"
      },
      "source": [
        "<a href=\"https://colab.research.google.com/github/mizykk/Basic/blob/master/Dictionary.ipynb\" target=\"_parent\"><img src=\"https://colab.research.google.com/assets/colab-badge.svg\" alt=\"Open In Colab\"/></a>"
      ]
    },
    {
      "cell_type": "markdown",
      "metadata": {
        "id": "cVzkYbuFn4U_",
        "colab_type": "text"
      },
      "source": [
        "## 딕셔너리"
      ]
    },
    {
      "cell_type": "markdown",
      "metadata": {
        "id": "FY5qYj-nt3Yf",
        "colab_type": "text"
      },
      "source": [
        "딕셔너리 만들기"
      ]
    },
    {
      "cell_type": "code",
      "metadata": {
        "id": "0bllsqfcoANy",
        "colab_type": "code",
        "colab": {
          "base_uri": "https://localhost:8080/",
          "height": 34
        },
        "outputId": "48909bef-fbfa-46c3-9487-e674144fb108"
      },
      "source": [
        "fruit = {\"사과\": [70, 65], \"체리\": 85, \"복숭아\": 80}\n",
        "fruit"
      ],
      "execution_count": 1,
      "outputs": [
        {
          "output_type": "execute_result",
          "data": {
            "text/plain": [
              "{'복숭아': 80, '사과': [70, 65], '체리': 85}"
            ]
          },
          "metadata": {
            "tags": []
          },
          "execution_count": 1
        }
      ]
    },
    {
      "cell_type": "markdown",
      "metadata": {
        "id": "qQZDElBlpkvi",
        "colab_type": "text"
      },
      "source": [
        "키"
      ]
    },
    {
      "cell_type": "code",
      "metadata": {
        "id": "RK2RmH5eoaeZ",
        "colab_type": "code",
        "colab": {
          "base_uri": "https://localhost:8080/",
          "height": 34
        },
        "outputId": "d677223f-b09f-42b1-e09a-127764757be4"
      },
      "source": [
        "# keys\n",
        "fruit.keys()"
      ],
      "execution_count": 2,
      "outputs": [
        {
          "output_type": "execute_result",
          "data": {
            "text/plain": [
              "dict_keys(['사과', '체리', '복숭아'])"
            ]
          },
          "metadata": {
            "tags": []
          },
          "execution_count": 2
        }
      ]
    },
    {
      "cell_type": "code",
      "metadata": {
        "id": "uEVB02oKuYni",
        "colab_type": "code",
        "colab": {
          "base_uri": "https://localhost:8080/",
          "height": 34
        },
        "outputId": "fad09538-b144-4d14-f6bf-baf143b59c2b"
      },
      "source": [
        "# keys > list\n",
        "list(fruit.keys())"
      ],
      "execution_count": 3,
      "outputs": [
        {
          "output_type": "execute_result",
          "data": {
            "text/plain": [
              "['사과', '체리', '복숭아']"
            ]
          },
          "metadata": {
            "tags": []
          },
          "execution_count": 3
        }
      ]
    },
    {
      "cell_type": "markdown",
      "metadata": {
        "id": "wXD1yIqKplkd",
        "colab_type": "text"
      },
      "source": [
        "값"
      ]
    },
    {
      "cell_type": "code",
      "metadata": {
        "id": "Kl9w9A79oQJG",
        "colab_type": "code",
        "colab": {
          "base_uri": "https://localhost:8080/",
          "height": 34
        },
        "outputId": "5378b7f9-ba6a-4db5-a33a-34514484d333"
      },
      "source": [
        "# values\n",
        "fruit.values()"
      ],
      "execution_count": 4,
      "outputs": [
        {
          "output_type": "execute_result",
          "data": {
            "text/plain": [
              "dict_values([[70, 65], 85, 80])"
            ]
          },
          "metadata": {
            "tags": []
          },
          "execution_count": 4
        }
      ]
    },
    {
      "cell_type": "code",
      "metadata": {
        "id": "PVi0cC10u007",
        "colab_type": "code",
        "colab": {
          "base_uri": "https://localhost:8080/",
          "height": 34
        },
        "outputId": "e48a54f7-79e6-41ef-c108-09ff4ff9b4f4"
      },
      "source": [
        "# values > list\n",
        "list(fruit.values())"
      ],
      "execution_count": 5,
      "outputs": [
        {
          "output_type": "execute_result",
          "data": {
            "text/plain": [
              "[[70, 65], 85, 80]"
            ]
          },
          "metadata": {
            "tags": []
          },
          "execution_count": 5
        }
      ]
    },
    {
      "cell_type": "markdown",
      "metadata": {
        "id": "8HBIAvjHpmhN",
        "colab_type": "text"
      },
      "source": [
        "키-값"
      ]
    },
    {
      "cell_type": "code",
      "metadata": {
        "id": "Q10lr45Qodig",
        "colab_type": "code",
        "colab": {
          "base_uri": "https://localhost:8080/",
          "height": 34
        },
        "outputId": "f8b56cc9-7303-4aa7-9aca-415a65c76f1a"
      },
      "source": [
        "# key-value\n",
        "fruit.items()"
      ],
      "execution_count": 6,
      "outputs": [
        {
          "output_type": "execute_result",
          "data": {
            "text/plain": [
              "dict_items([('사과', [70, 65]), ('체리', 85), ('복숭아', 80)])"
            ]
          },
          "metadata": {
            "tags": []
          },
          "execution_count": 6
        }
      ]
    },
    {
      "cell_type": "markdown",
      "metadata": {
        "id": "_bdx1sF-pgSP",
        "colab_type": "text"
      },
      "source": [
        "특정값 선택"
      ]
    },
    {
      "cell_type": "code",
      "metadata": {
        "id": "qc5FMVo4pJMn",
        "colab_type": "code",
        "colab": {
          "base_uri": "https://localhost:8080/",
          "height": 34
        },
        "outputId": "023b0f4d-66c2-40e1-b615-4686fb0b8f9f"
      },
      "source": [
        "fruit['사과']"
      ],
      "execution_count": 7,
      "outputs": [
        {
          "output_type": "execute_result",
          "data": {
            "text/plain": [
              "[70, 65]"
            ]
          },
          "metadata": {
            "tags": []
          },
          "execution_count": 7
        }
      ]
    },
    {
      "cell_type": "code",
      "metadata": {
        "id": "pMrxsGAupbNp",
        "colab_type": "code",
        "colab": {
          "base_uri": "https://localhost:8080/",
          "height": 34
        },
        "outputId": "138d0c20-705e-40c6-a903-8a75940f56c4"
      },
      "source": [
        "fruit.get('사과')"
      ],
      "execution_count": 8,
      "outputs": [
        {
          "output_type": "execute_result",
          "data": {
            "text/plain": [
              "[70, 65]"
            ]
          },
          "metadata": {
            "tags": []
          },
          "execution_count": 8
        }
      ]
    },
    {
      "cell_type": "markdown",
      "metadata": {
        "id": "85hYYM9Kpwrs",
        "colab_type": "text"
      },
      "source": [
        "값 변경"
      ]
    },
    {
      "cell_type": "code",
      "metadata": {
        "id": "9tpbzRegprZp",
        "colab_type": "code",
        "colab": {
          "base_uri": "https://localhost:8080/",
          "height": 34
        },
        "outputId": "269b783c-e6c7-4870-f9a0-666bab0112af"
      },
      "source": [
        "fruit['사과'] = 65\n",
        "fruit"
      ],
      "execution_count": 9,
      "outputs": [
        {
          "output_type": "execute_result",
          "data": {
            "text/plain": [
              "{'복숭아': 80, '사과': 65, '체리': 85}"
            ]
          },
          "metadata": {
            "tags": []
          },
          "execution_count": 9
        }
      ]
    },
    {
      "cell_type": "markdown",
      "metadata": {
        "id": "PnRuSQfOp27C",
        "colab_type": "text"
      },
      "source": [
        "키-값 추가"
      ]
    },
    {
      "cell_type": "code",
      "metadata": {
        "id": "Rfuf83BTp2Yr",
        "colab_type": "code",
        "colab": {
          "base_uri": "https://localhost:8080/",
          "height": 34
        },
        "outputId": "034e3fa3-ffe6-48ef-8651-8fc176d7e295"
      },
      "source": [
        "fruit['바나나'] = 60\n",
        "fruit"
      ],
      "execution_count": 10,
      "outputs": [
        {
          "output_type": "execute_result",
          "data": {
            "text/plain": [
              "{'바나나': 60, '복숭아': 80, '사과': 65, '체리': 85}"
            ]
          },
          "metadata": {
            "tags": []
          },
          "execution_count": 10
        }
      ]
    },
    {
      "cell_type": "code",
      "metadata": {
        "id": "YvGjXsR6r0OY",
        "colab_type": "code",
        "colab": {
          "base_uri": "https://localhost:8080/",
          "height": 34
        },
        "outputId": "215bfe2e-53c4-42f9-e969-b3a833f7e2fb"
      },
      "source": [
        "fruit.update({'망고':90, '수박':90})\n",
        "fruit"
      ],
      "execution_count": 11,
      "outputs": [
        {
          "output_type": "execute_result",
          "data": {
            "text/plain": [
              "{'망고': 90, '바나나': 60, '복숭아': 80, '사과': 65, '수박': 90, '체리': 85}"
            ]
          },
          "metadata": {
            "tags": []
          },
          "execution_count": 11
        }
      ]
    },
    {
      "cell_type": "markdown",
      "metadata": {
        "id": "CFyW2sldqAhY",
        "colab_type": "text"
      },
      "source": [
        "키-값 삭제"
      ]
    },
    {
      "cell_type": "code",
      "metadata": {
        "id": "aJFUDdiUpvsi",
        "colab_type": "code",
        "colab": {
          "base_uri": "https://localhost:8080/",
          "height": 34
        },
        "outputId": "b9f5c355-5042-4c1f-b0a3-ea1dc72de45d"
      },
      "source": [
        "del fruit['복숭아']\n",
        "fruit"
      ],
      "execution_count": 12,
      "outputs": [
        {
          "output_type": "execute_result",
          "data": {
            "text/plain": [
              "{'망고': 90, '바나나': 60, '사과': 65, '수박': 90, '체리': 85}"
            ]
          },
          "metadata": {
            "tags": []
          },
          "execution_count": 12
        }
      ]
    },
    {
      "cell_type": "code",
      "metadata": {
        "id": "UDgdfvlhtBfr",
        "colab_type": "code",
        "colab": {
          "base_uri": "https://localhost:8080/",
          "height": 34
        },
        "outputId": "00563b47-aeef-4168-b951-908f2522f429"
      },
      "source": [
        "fruit.pop('체리')\n",
        "fruit"
      ],
      "execution_count": 13,
      "outputs": [
        {
          "output_type": "execute_result",
          "data": {
            "text/plain": [
              "{'망고': 90, '바나나': 60, '사과': 65, '수박': 90}"
            ]
          },
          "metadata": {
            "tags": []
          },
          "execution_count": 13
        }
      ]
    },
    {
      "cell_type": "markdown",
      "metadata": {
        "id": "Z5bAQn2gs42V",
        "colab_type": "text"
      },
      "source": [
        "마지막으로 추가된 키-값 삭제"
      ]
    },
    {
      "cell_type": "code",
      "metadata": {
        "id": "o-w5RXAJs1VK",
        "colab_type": "code",
        "colab": {
          "base_uri": "https://localhost:8080/",
          "height": 34
        },
        "outputId": "1e7da8a9-e0a1-4df1-9d45-986aa60c654a"
      },
      "source": [
        "fruit.popitem()\n",
        "fruit"
      ],
      "execution_count": 14,
      "outputs": [
        {
          "output_type": "execute_result",
          "data": {
            "text/plain": [
              "{'망고': 90, '바나나': 60, '사과': 65}"
            ]
          },
          "metadata": {
            "tags": []
          },
          "execution_count": 14
        }
      ]
    },
    {
      "cell_type": "markdown",
      "metadata": {
        "id": "2dtb9cAJqh1s",
        "colab_type": "text"
      },
      "source": [
        "딕셔너리 비우기"
      ]
    },
    {
      "cell_type": "code",
      "metadata": {
        "id": "sesnt_1rqJbZ",
        "colab_type": "code",
        "colab": {
          "base_uri": "https://localhost:8080/",
          "height": 34
        },
        "outputId": "982e9b99-72e6-40e7-89bd-143bae0dbe7b"
      },
      "source": [
        "fruit.clear()\n",
        "fruit"
      ],
      "execution_count": 15,
      "outputs": [
        {
          "output_type": "execute_result",
          "data": {
            "text/plain": [
              "{}"
            ]
          },
          "metadata": {
            "tags": []
          },
          "execution_count": 15
        }
      ]
    }
  ]
}