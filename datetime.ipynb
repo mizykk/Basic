{
  "nbformat": 4,
  "nbformat_minor": 0,
  "metadata": {
    "colab": {
      "name": "datetime.ipynb",
      "provenance": [],
      "include_colab_link": true
    },
    "kernelspec": {
      "name": "python3",
      "display_name": "Python 3"
    }
  },
  "cells": [
    {
      "cell_type": "markdown",
      "metadata": {
        "id": "view-in-github",
        "colab_type": "text"
      },
      "source": [
        "<a href=\"https://colab.research.google.com/github/mizykk/Basic/blob/master/datetime.ipynb\" target=\"_parent\"><img src=\"https://colab.research.google.com/assets/colab-badge.svg\" alt=\"Open In Colab\"/></a>"
      ]
    },
    {
      "cell_type": "markdown",
      "metadata": {
        "id": "QZlTuDmaK-Ba"
      },
      "source": [
        "# [Datetime](https://docs.python.org/3/library/datetime.html#strftime-and-strptime-format-codes)\n",
        "  \n"
      ]
    },
    {
      "cell_type": "code",
      "metadata": {
        "id": "IECXR0seK60a"
      },
      "source": [
        "import datetime"
      ],
      "execution_count": 1,
      "outputs": []
    },
    {
      "cell_type": "markdown",
      "metadata": {
        "id": "_9-1jB65LaRY"
      },
      "source": [
        "**datetime.datetime.now()**  \n",
        "현재시각  "
      ]
    },
    {
      "cell_type": "code",
      "metadata": {
        "id": "1IiuXRceLVX3",
        "outputId": "25ad1a9a-6971-43f3-828d-ba8a604d7c95",
        "colab": {
          "base_uri": "https://localhost:8080/",
          "height": 34
        }
      },
      "source": [
        "now_time = datetime.datetime.now()\n",
        "now_time"
      ],
      "execution_count": 2,
      "outputs": [
        {
          "output_type": "execute_result",
          "data": {
            "text/plain": [
              "datetime.datetime(2020, 10, 11, 12, 8, 38, 36749)"
            ]
          },
          "metadata": {
            "tags": []
          },
          "execution_count": 2
        }
      ]
    },
    {
      "cell_type": "markdown",
      "metadata": {
        "id": "60b3MJEpMcUJ"
      },
      "source": [
        "datetime.datetime(year, month, day, hour, minute, second, microsecond)  "
      ]
    },
    {
      "cell_type": "code",
      "metadata": {
        "id": "8IHQY-43y7DX",
        "outputId": "44799aa1-3d91-4228-87a7-ac6583d31871",
        "colab": {
          "base_uri": "https://localhost:8080/",
          "height": 34
        }
      },
      "source": [
        "type(now_time)"
      ],
      "execution_count": 3,
      "outputs": [
        {
          "output_type": "execute_result",
          "data": {
            "text/plain": [
              "datetime.datetime"
            ]
          },
          "metadata": {
            "tags": []
          },
          "execution_count": 3
        }
      ]
    },
    {
      "cell_type": "code",
      "metadata": {
        "id": "-5q9gJNVLqI-",
        "outputId": "c3f5282c-76af-4be0-82ff-052ec49ac585",
        "colab": {
          "base_uri": "https://localhost:8080/",
          "height": 136
        }
      },
      "source": [
        "print(\"year : {}\".format(now_time.year))\n",
        "print(\"month : {}\".format(now_time.month))\n",
        "print(\"day : {}\".format(now_time.day))\n",
        "print(\"hour : {}\".format(now_time.hour))\n",
        "print(\"minute : {}\".format(now_time.minute))\n",
        "print(\"second : {}\".format(now_time.second))\n",
        "print(\"microsecond : {}\".format(now_time.microsecond))"
      ],
      "execution_count": 4,
      "outputs": [
        {
          "output_type": "stream",
          "text": [
            "year : 2020\n",
            "month : 10\n",
            "day : 11\n",
            "hour : 12\n",
            "minute : 8\n",
            "second : 38\n",
            "microsecond : 36749\n"
          ],
          "name": "stdout"
        }
      ]
    },
    {
      "cell_type": "markdown",
      "metadata": {
        "id": "M-brev3sMmLL"
      },
      "source": [
        "**datetime.weekday()**  \n",
        "요일을 숫자로 반환  \n",
        "0 : 월 / 1 : 화 / 2 : 수 / 3 : 목 / 4 : 금 / 5 : 토 / 6 : 일"
      ]
    },
    {
      "cell_type": "code",
      "metadata": {
        "id": "9r3edZBnMXLc",
        "outputId": "7ae25d14-3de8-4ca4-b638-638d60704269",
        "colab": {
          "base_uri": "https://localhost:8080/",
          "height": 34
        }
      },
      "source": [
        "now_time.weekday()"
      ],
      "execution_count": 5,
      "outputs": [
        {
          "output_type": "execute_result",
          "data": {
            "text/plain": [
              "6"
            ]
          },
          "metadata": {
            "tags": []
          },
          "execution_count": 5
        }
      ]
    },
    {
      "cell_type": "markdown",
      "metadata": {
        "id": "DPe2oAe0hI5h"
      },
      "source": [
        "**datetime.date()**  \n",
        "날짜만 출력"
      ]
    },
    {
      "cell_type": "code",
      "metadata": {
        "id": "Vwd1lIALhCth",
        "outputId": "33bdb926-3b6e-416f-fdff-d1adcf94560c",
        "colab": {
          "base_uri": "https://localhost:8080/",
          "height": 34
        }
      },
      "source": [
        "now_time.date()"
      ],
      "execution_count": 6,
      "outputs": [
        {
          "output_type": "execute_result",
          "data": {
            "text/plain": [
              "datetime.date(2020, 10, 11)"
            ]
          },
          "metadata": {
            "tags": []
          },
          "execution_count": 6
        }
      ]
    },
    {
      "cell_type": "markdown",
      "metadata": {
        "id": "P5n_cnNPhV3_"
      },
      "source": [
        "**datetime.time()**  \n",
        "시간만 출력  "
      ]
    },
    {
      "cell_type": "code",
      "metadata": {
        "id": "vxi7pXa5hab4",
        "outputId": "c9f35e6b-80f5-496f-c216-6a82ffba2899",
        "colab": {
          "base_uri": "https://localhost:8080/",
          "height": 34
        }
      },
      "source": [
        "now_time.time()"
      ],
      "execution_count": 7,
      "outputs": [
        {
          "output_type": "execute_result",
          "data": {
            "text/plain": [
              "datetime.time(12, 8, 38, 36749)"
            ]
          },
          "metadata": {
            "tags": []
          },
          "execution_count": 7
        }
      ]
    },
    {
      "cell_type": "markdown",
      "metadata": {
        "id": "FvPnMzHQjDrz"
      },
      "source": [
        "**datetime.datetime.combine(d, t)**  \n",
        "date와 time합치기  "
      ]
    },
    {
      "cell_type": "code",
      "metadata": {
        "id": "AbUNi4_7jBm2",
        "outputId": "07d25556-069b-4513-dd14-250ba26834a9",
        "colab": {
          "base_uri": "https://localhost:8080/",
          "height": 34
        }
      },
      "source": [
        "d = datetime.date(2017, 8, 31)\n",
        "t = datetime.time(18, 30, 0)\n",
        "\n",
        "datetime.datetime.combine(d, t)"
      ],
      "execution_count": 8,
      "outputs": [
        {
          "output_type": "execute_result",
          "data": {
            "text/plain": [
              "datetime.datetime(2017, 8, 31, 18, 30)"
            ]
          },
          "metadata": {
            "tags": []
          },
          "execution_count": 8
        }
      ]
    },
    {
      "cell_type": "markdown",
      "metadata": {
        "id": "WsNicskrNZ5X"
      },
      "source": [
        "**datetime.strftime(format)**  \n",
        "datetime을 문자열로  "
      ]
    },
    {
      "cell_type": "code",
      "metadata": {
        "id": "L1bRAn1zM6Qi",
        "outputId": "b81f87af-ed70-4c2d-9944-b38b9ca7938a",
        "colab": {
          "base_uri": "https://localhost:8080/",
          "height": 35
        }
      },
      "source": [
        "now_time.strftime('%y%m%d')"
      ],
      "execution_count": 9,
      "outputs": [
        {
          "output_type": "execute_result",
          "data": {
            "application/vnd.google.colaboratory.intrinsic+json": {
              "type": "string"
            },
            "text/plain": [
              "'201011'"
            ]
          },
          "metadata": {
            "tags": []
          },
          "execution_count": 9
        }
      ]
    },
    {
      "cell_type": "markdown",
      "metadata": {
        "id": "7h2k9he7NiWa"
      },
      "source": [
        "**datetime.strptime(date_string, format)**  \n",
        "문자열을 datetime으로"
      ]
    },
    {
      "cell_type": "code",
      "metadata": {
        "id": "jONsDWBmdZ-5",
        "outputId": "1048e20a-b8fc-426f-e4c6-83e6c755deb7",
        "colab": {
          "base_uri": "https://localhost:8080/",
          "height": 34
        }
      },
      "source": [
        "datetime.datetime.strptime(\"17/08/31\", \"%y/%m/%d\")"
      ],
      "execution_count": 10,
      "outputs": [
        {
          "output_type": "execute_result",
          "data": {
            "text/plain": [
              "datetime.datetime(2017, 8, 31, 0, 0)"
            ]
          },
          "metadata": {
            "tags": []
          },
          "execution_count": 10
        }
      ]
    },
    {
      "cell_type": "markdown",
      "metadata": {
        "id": "--oxovY4wyF5"
      },
      "source": [
        "### [Format](https://docs.python.org/3/library/datetime.html#strftime-and-strptime-format-codes)  \n",
        "  \n",
        "|Directive|meaning|Example|\n",
        "|:---:|:---:|:---:|  \n",
        "|%a|간략하게 문자로 요일표시|Sun, Mon, Tue, ...Sat|  \n",
        "|%A|문자로 요일표시|Sunday, Monday,...Saturday|\n",
        "|%w|숫자로 요일표시|sun = 0 ~ sat = 6\t0, 1, 2, ... 6|\n",
        "|%d|일 day|01, 02, ..., 30, 31|\n",
        "|%b|간략하게 문자로 월표시(month)|Jan, Feb, ..., Dec|\n",
        "|%B|문자로 월표시(month)|January, February,...,December|\n",
        "|%m|숫자로 월표시(month)|01, 02, ..., 12|\n",
        "|%y|두자리 숫자로 연도표시(year)|00, 01, …, 99|\n",
        "|%Y|네자리 숫자로 연도표시(year)|0001, 0002, …, 2013, 2014, …, 9998, 9999|\n",
        "|%H|24시간제 hour|00, 01, 02, ..., 23|\n",
        "|%l|12시간제 hour|00, 01, 02, ..., 12|\n",
        "|%p|AM / PM|AM, PM|\n",
        "|%M|분 Minute|00, 01, 02, ..., 59|\n",
        "|%s|초 second|00, 01, 02, ..., 59|\n",
        "|%f|microsecond|000000, 000001, …, 999999|\n",
        "|%z|UTC설정 ±HHMM[SS[.ffffff]]|+0000, -0400, +1030, +063415, -030712.345216|\n",
        "|%j|일년 중 몇번째 일(day)인지|001, 002, …, 366|\n",
        "|%U|일년 중 몇번째 주인지(일요일 시작)|00, 01, …, 53|\n",
        "|%W|일년 중 몇번째 주인지(월요일 시작)|00, 01, …, 53|"
      ]
    }
  ]
}