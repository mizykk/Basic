{
  "nbformat": 4,
  "nbformat_minor": 0,
  "metadata": {
    "colab": {
      "name": "datetime.ipynb",
      "provenance": [],
      "include_colab_link": true
    },
    "kernelspec": {
      "name": "python3",
      "display_name": "Python 3"
    }
  },
  "cells": [
    {
      "cell_type": "markdown",
      "metadata": {
        "id": "view-in-github",
        "colab_type": "text"
      },
      "source": [
        "<a href=\"https://colab.research.google.com/github/mizykk/Basic/blob/master/datetime.ipynb\" target=\"_parent\"><img src=\"https://colab.research.google.com/assets/colab-badge.svg\" alt=\"Open In Colab\"/></a>"
      ]
    },
    {
      "cell_type": "markdown",
      "metadata": {
        "id": "QZlTuDmaK-Ba"
      },
      "source": [
        "# [Datetime](https://docs.python.org/3/library/datetime.html#strftime-and-strptime-format-codes)\n",
        "  \n"
      ]
    },
    {
      "cell_type": "code",
      "metadata": {
        "id": "IECXR0seK60a"
      },
      "source": [
        "from datetime import datetime"
      ],
      "execution_count": 1,
      "outputs": []
    },
    {
      "cell_type": "markdown",
      "metadata": {
        "id": "_9-1jB65LaRY"
      },
      "source": [
        "### **datetime.now()**  \n",
        "현재시각  "
      ]
    },
    {
      "cell_type": "code",
      "metadata": {
        "id": "1IiuXRceLVX3",
        "colab": {
          "base_uri": "https://localhost:8080/"
        },
        "outputId": "9e232f9d-5e3b-47cb-ad77-e3d5d20e2540"
      },
      "source": [
        "now_time = datetime.now()\n",
        "now_time"
      ],
      "execution_count": 2,
      "outputs": [
        {
          "output_type": "execute_result",
          "data": {
            "text/plain": [
              "datetime.datetime(2020, 12, 12, 8, 40, 12, 288977)"
            ]
          },
          "metadata": {
            "tags": []
          },
          "execution_count": 2
        }
      ]
    },
    {
      "cell_type": "markdown",
      "metadata": {
        "id": "60b3MJEpMcUJ"
      },
      "source": [
        "datetime.datetime(year, month, day, hour, minute, second, microsecond)  "
      ]
    },
    {
      "cell_type": "code",
      "metadata": {
        "id": "8IHQY-43y7DX",
        "colab": {
          "base_uri": "https://localhost:8080/"
        },
        "outputId": "b586ad23-85bf-496b-cd2b-a54747da2502"
      },
      "source": [
        "type(now_time)"
      ],
      "execution_count": 3,
      "outputs": [
        {
          "output_type": "execute_result",
          "data": {
            "text/plain": [
              "datetime.datetime"
            ]
          },
          "metadata": {
            "tags": []
          },
          "execution_count": 3
        }
      ]
    },
    {
      "cell_type": "code",
      "metadata": {
        "id": "-5q9gJNVLqI-",
        "colab": {
          "base_uri": "https://localhost:8080/"
        },
        "outputId": "bd67167f-36e5-4ac0-f6e0-7205aa74c0dc"
      },
      "source": [
        "print(\"year : {}\".format(now_time.year))\n",
        "print(\"month : {}\".format(now_time.month))\n",
        "print(\"day : {}\".format(now_time.day))\n",
        "print(\"hour : {}\".format(now_time.hour))\n",
        "print(\"minute : {}\".format(now_time.minute))\n",
        "print(\"second : {}\".format(now_time.second))\n",
        "print(\"microsecond : {}\".format(now_time.microsecond))"
      ],
      "execution_count": 4,
      "outputs": [
        {
          "output_type": "stream",
          "text": [
            "year : 2020\n",
            "month : 12\n",
            "day : 12\n",
            "hour : 8\n",
            "minute : 40\n",
            "second : 12\n",
            "microsecond : 288977\n"
          ],
          "name": "stdout"
        }
      ]
    },
    {
      "cell_type": "markdown",
      "metadata": {
        "id": "M-brev3sMmLL"
      },
      "source": [
        "### **dt.weekday()**\n",
        "요일을 숫자로 반환  \n",
        "0 : 월 / 1 : 화 / 2 : 수 / 3 : 목 / 4 : 금 / 5 : 토 / 6 : 일"
      ]
    },
    {
      "cell_type": "code",
      "metadata": {
        "id": "9r3edZBnMXLc",
        "colab": {
          "base_uri": "https://localhost:8080/"
        },
        "outputId": "aef0ee3b-e5f0-41eb-c89c-9f78169294fd"
      },
      "source": [
        "now_time.weekday()"
      ],
      "execution_count": 5,
      "outputs": [
        {
          "output_type": "execute_result",
          "data": {
            "text/plain": [
              "5"
            ]
          },
          "metadata": {
            "tags": []
          },
          "execution_count": 5
        }
      ]
    },
    {
      "cell_type": "markdown",
      "metadata": {
        "id": "DPe2oAe0hI5h"
      },
      "source": [
        "### **dt.date()**  \n",
        "날짜만 출력"
      ]
    },
    {
      "cell_type": "code",
      "metadata": {
        "id": "Vwd1lIALhCth",
        "colab": {
          "base_uri": "https://localhost:8080/"
        },
        "outputId": "61f79f5f-cd0a-404f-e387-d1e03e5598e5"
      },
      "source": [
        "now_time.date()"
      ],
      "execution_count": 6,
      "outputs": [
        {
          "output_type": "execute_result",
          "data": {
            "text/plain": [
              "datetime.date(2020, 12, 12)"
            ]
          },
          "metadata": {
            "tags": []
          },
          "execution_count": 6
        }
      ]
    },
    {
      "cell_type": "markdown",
      "metadata": {
        "id": "P5n_cnNPhV3_"
      },
      "source": [
        "### **dt.time()**  \n",
        "시간만 출력  "
      ]
    },
    {
      "cell_type": "code",
      "metadata": {
        "id": "vxi7pXa5hab4",
        "colab": {
          "base_uri": "https://localhost:8080/"
        },
        "outputId": "99932bb2-690c-4ea3-df79-a0d1c26f245e"
      },
      "source": [
        "now_time.time()"
      ],
      "execution_count": 7,
      "outputs": [
        {
          "output_type": "execute_result",
          "data": {
            "text/plain": [
              "datetime.time(8, 40, 12, 288977)"
            ]
          },
          "metadata": {
            "tags": []
          },
          "execution_count": 7
        }
      ]
    },
    {
      "cell_type": "markdown",
      "metadata": {
        "id": "FvPnMzHQjDrz"
      },
      "source": [
        "### **datetime.combine(date, time)**  \n",
        "date와 time합치기  "
      ]
    },
    {
      "cell_type": "code",
      "metadata": {
        "id": "AbUNi4_7jBm2",
        "colab": {
          "base_uri": "https://localhost:8080/"
        },
        "outputId": "e526268c-a25d-41f4-f02c-160c9c50c754"
      },
      "source": [
        "datetime.combine(now_time.date(), now_time.time())"
      ],
      "execution_count": 8,
      "outputs": [
        {
          "output_type": "execute_result",
          "data": {
            "text/plain": [
              "datetime.datetime(2020, 12, 12, 8, 40, 12, 288977)"
            ]
          },
          "metadata": {
            "tags": []
          },
          "execution_count": 8
        }
      ]
    },
    {
      "cell_type": "markdown",
      "metadata": {
        "id": "WsNicskrNZ5X"
      },
      "source": [
        "### **dt.strftime(format)**  \n",
        "datetime을 문자열로  "
      ]
    },
    {
      "cell_type": "code",
      "metadata": {
        "id": "L1bRAn1zM6Qi",
        "colab": {
          "base_uri": "https://localhost:8080/",
          "height": 35
        },
        "outputId": "b41c328f-c63c-437b-ace2-01d8e3b19f58"
      },
      "source": [
        "now_time.strftime('%y%m%d')"
      ],
      "execution_count": 9,
      "outputs": [
        {
          "output_type": "execute_result",
          "data": {
            "application/vnd.google.colaboratory.intrinsic+json": {
              "type": "string"
            },
            "text/plain": [
              "'201212'"
            ]
          },
          "metadata": {
            "tags": []
          },
          "execution_count": 9
        }
      ]
    },
    {
      "cell_type": "markdown",
      "metadata": {
        "id": "7h2k9he7NiWa"
      },
      "source": [
        "### **datetime.strptime(date_string, format)**  \n",
        "문자열을 datetime으로"
      ]
    },
    {
      "cell_type": "code",
      "metadata": {
        "id": "jONsDWBmdZ-5",
        "colab": {
          "base_uri": "https://localhost:8080/"
        },
        "outputId": "9b7a028e-64a9-4827-9ebe-99fc6800f9d1"
      },
      "source": [
        "datetime.strptime('17/08/31', '%y/%m/%d')"
      ],
      "execution_count": 10,
      "outputs": [
        {
          "output_type": "execute_result",
          "data": {
            "text/plain": [
              "datetime.datetime(2017, 8, 31, 0, 0)"
            ]
          },
          "metadata": {
            "tags": []
          },
          "execution_count": 10
        }
      ]
    },
    {
      "cell_type": "markdown",
      "metadata": {
        "id": "--oxovY4wyF5"
      },
      "source": [
        "### [Format](https://docs.python.org/3/library/datetime.html#strftime-and-strptime-format-codes)  \n",
        "  \n",
        "|Directive|meaning|Example|\n",
        "|:---:|:---:|:---:|  \n",
        "|%a|간략하게 문자로 요일표시|Sun, Mon, Tue, ...Sat|  \n",
        "|%A|문자로 요일표시|Sunday, Monday,...Saturday|\n",
        "|%w|숫자로 요일표시|sun = 0 ~ sat = 6\t0, 1, 2, ... 6|\n",
        "|%d|일 day|01, 02, ..., 30, 31|\n",
        "|%b|간략하게 문자로 월표시(month)|Jan, Feb, ..., Dec|\n",
        "|%B|문자로 월표시(month)|January, February,...,December|\n",
        "|%m|숫자로 월표시(month)|01, 02, ..., 12|\n",
        "|%y|두자리 숫자로 연도표시(year)|00, 01, …, 99|\n",
        "|%Y|네자리 숫자로 연도표시(year)|0001, 0002, …, 2013, 2014, …, 9998, 9999|\n",
        "|%H|24시간제 hour|00, 01, 02, ..., 23|\n",
        "|%l|12시간제 hour|00, 01, 02, ..., 12|\n",
        "|%p|AM / PM|AM, PM|\n",
        "|%M|분 Minute|00, 01, 02, ..., 59|\n",
        "|%s|초 second|00, 01, 02, ..., 59|\n",
        "|%f|microsecond|000000, 000001, …, 999999|\n",
        "|%z|UTC설정 ±HHMM[SS[.ffffff]]|+0000, -0400, +1030, +063415, -030712.345216|\n",
        "|%j|일년 중 몇번째 일(day)인지|001, 002, …, 366|\n",
        "|%U|일년 중 몇번째 주인지(일요일 시작)|00, 01, …, 53|\n",
        "|%W|일년 중 몇번째 주인지(월요일 시작)|00, 01, …, 53|"
      ]
    }
  ]
}